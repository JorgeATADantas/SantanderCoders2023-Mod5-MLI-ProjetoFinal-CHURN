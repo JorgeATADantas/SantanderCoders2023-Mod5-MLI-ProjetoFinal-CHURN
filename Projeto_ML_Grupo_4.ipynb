{
 "cells": [
  {
   "cell_type": "markdown",
   "id": "2d410680",
   "metadata": {},
   "source": [
    "# <center>**Projeto Final da disciplina Estatística I**"
   ]
  },
  {
   "cell_type": "markdown",
   "id": "2d2f95eb",
   "metadata": {},
   "source": [
    "\n",
    "### **Descrição**\n",
    "\n",
    "Este notebook apresenta uma análise de dados feita a partir de datasets de Análise de Churn.\n",
    "\n",
    "### **Identificação da equipe**\n",
    "\n",
    "**Grupo 3:** Cícero Vicente, Jorge Dantas, Mohara Nascimento, Nathália Martins, Pedro Henrique\n",
    "\n",
    "**Programa:** Santander Coders 2023\n",
    "\n",
    "### **Dataset**\n",
    "\n",
    "O conjunto de dados utilizado neste projeto foi retirado diretamente do kaggle. Cuja fonte é a seguinte:\n",
    "\n",
    "- Análise de Churn (Escrever algo a mais): https://www.kaggle.com/datasets/blastchar/telco-customer-churn\n",
    "\n",
    "\n",
    "### **Orientações para o projeto**\n",
    "\n",
    "- __Preparação dos Dados e Verificação de Consistência__: Neste tópico deve ser feita a verificação da consistência dos dados e caso necessário efetuar eventuais modificações na base de dados. Alguns dos procedimentos que podemos fazer aqui são: Remoção e/ou tratamento de valores faltantes, remoção de duplicatas, ajustes dos tipos de variáveis, análise de _outliers_ entre outras;\n",
    "\n",
    "- __Análise Exploratória dos Dados__: Para fazermos a modelagem, precisamos conhecer muito bem os dados que estamos trabalhando. Por isso, nesta parte do projeto vocês desenvolveram an´laises e gráficos a respeito dos dados que estão utilizando. Tente tirar ao máximo informações sobre as variáveis em si e suas relações com as demais;\n",
    "\n",
    "- **Modelagem dos dados**: Nessa parte, deve ser definido o tipo de problema (classificação/regressão). Vocês precisam **treinar pelo menos três (3) modelos** (pode ser testado mais que três modelos distintos) e de acordo com alguma métrica de avaliação (escolhida pelo grupo), decidir qual será o melhor modelo a ser utilizado!;\n",
    "\n",
    "- __Otimização do Modelo__: A partir do modelo escolhido no tópico anterior, vamos tentar aprimorar e garantir um melhor desempenho no modelo, seja fazendo validação cruzada, otimização de parâmetros com _GridSearchCV_ ou _RandomizedSearchCV_ e até mesmo testar diferentes _thresholds_ (ao invés de utilizar a função _predict_ do modelo, utilize a função _predict_proba_ do modelo e a partir das probabilidades determinar qual vai ser o limiar onde será considerado um caso positivo ou negativo);\n",
    "\n",
    "- __Conclusões sobre o Projeto__: Para finalizar, descreva as suas conclusões sobre o desenvolvimento do modelo e os resultados obtidos.\n"
   ]
  },
  {
   "cell_type": "markdown",
   "id": "66738ff4",
   "metadata": {},
   "source": [
    "\n",
    "### **Sumário**\n",
    "\n",
    "1. [Dados iniciais](#1-dados-iniciais)\n",
    "2. [Analise exploratorios dos dados](#2-analise-exploratorios-dos-dados)\n",
    "3. [Tratamento dos dados](#3-tratamento-dos-dados)\n",
    "4. [Modelagem](#4-modelagem)\n",
    "5. [Otimizacao de modelos](#5-otimizacao-de-modelos)\n",
    "6. [Conclusoes](#6-conclusoes)"
   ]
  },
  {
   "cell_type": "markdown",
   "id": "177617f8",
   "metadata": {},
   "source": [
    "### **[1. Dados iniciais](#1.-Dados-iniciais)**"
   ]
  },
  {
   "cell_type": "markdown",
   "id": "e8bd7088",
   "metadata": {},
   "source": [
    "- Explicar o problema a ser resolvido (fraude, churn, previsão, etc). Indicando o problema de negócio (por quê esse dado é interessante?)\n",
    "- Leitura de dados iniciais"
   ]
  },
  {
   "cell_type": "code",
   "execution_count": null,
   "id": "c320e374",
   "metadata": {},
   "outputs": [],
   "source": []
  },
  {
   "cell_type": "markdown",
   "id": "8ccc9fa1",
   "metadata": {},
   "source": [
    "### **[2. Analise exploratorios dos dados](#2.-Analise-exploratorios-dos-dados)**"
   ]
  },
  {
   "cell_type": "markdown",
   "id": "090650af",
   "metadata": {},
   "source": [
    "- Estatística descritiva\n",
    "- Informações gerais dos dados\n",
    "- Primeira hipóteses"
   ]
  },
  {
   "cell_type": "code",
   "execution_count": null,
   "id": "43830be1",
   "metadata": {},
   "outputs": [],
   "source": []
  },
  {
   "cell_type": "markdown",
   "id": "1a182a75",
   "metadata": {},
   "source": [
    "### **[3. Tratamento dos dados](#3.-Tratamento-dos-dados)**"
   ]
  },
  {
   "cell_type": "markdown",
   "id": "e5637d43",
   "metadata": {},
   "source": [
    "- Explicar os motivos dos tratamentos de dados\n",
    "- Criar funções reutilizáveis e limpas\n",
    "- Demonstrar os efeitos positivos (ou possíveis melhorias) dessas transformações\n",
    "- Feature engineering"
   ]
  },
  {
   "cell_type": "code",
   "execution_count": null,
   "id": "1ded3ee0",
   "metadata": {},
   "outputs": [],
   "source": []
  },
  {
   "cell_type": "markdown",
   "id": "d172d1f8",
   "metadata": {},
   "source": [
    "### **[4. Modelagem](#4.-Modelagem)**"
   ]
  },
  {
   "cell_type": "markdown",
   "id": "d2388729",
   "metadata": {},
   "source": [
    "- Selecionar modelos a serem utilizados\n",
    "- Explicar potenciais benefícios\n",
    "- Mostrar principais métricas\n",
    "- Conclusões iniciais"
   ]
  },
  {
   "cell_type": "code",
   "execution_count": null,
   "id": "bc763df5",
   "metadata": {},
   "outputs": [],
   "source": []
  },
  {
   "cell_type": "markdown",
   "id": "af2b2270",
   "metadata": {},
   "source": [
    "### **[5. Otimizacao de modelos](#5.-Otimizacao-de-modelos)**"
   ]
  },
  {
   "cell_type": "markdown",
   "id": "3b8b14e3",
   "metadata": {},
   "source": [
    "- Optimização dos hiperparâmetros, pelo menos um (1) modelo\n",
    "- Demonstrar de forma clara quais os resultados obtidos"
   ]
  },
  {
   "cell_type": "code",
   "execution_count": null,
   "id": "40640e9c",
   "metadata": {},
   "outputs": [],
   "source": []
  },
  {
   "cell_type": "markdown",
   "id": "0f1496b4",
   "metadata": {},
   "source": [
    "### **[6. Conclusoes](#6.-Conclusoes)**"
   ]
  },
  {
   "cell_type": "markdown",
   "id": "5776e9ae",
   "metadata": {},
   "source": [
    "- Explicar os principais achados (comparação de métricas e modelos)\n",
    "- Próximos passos\n",
    "- Potenciais ganhos para o negócio"
   ]
  },
  {
   "cell_type": "code",
   "execution_count": null,
   "id": "156b32cf",
   "metadata": {},
   "outputs": [],
   "source": []
  }
 ],
 "metadata": {
  "kernelspec": {
   "display_name": "Python 3 (ipykernel)",
   "language": "python",
   "name": "python3"
  },
  "language_info": {
   "codemirror_mode": {
    "name": "ipython",
    "version": 3
   },
   "file_extension": ".py",
   "mimetype": "text/x-python",
   "name": "python",
   "nbconvert_exporter": "python",
   "pygments_lexer": "ipython3",
   "version": "3.11.3"
  }
 },
 "nbformat": 4,
 "nbformat_minor": 5
}
